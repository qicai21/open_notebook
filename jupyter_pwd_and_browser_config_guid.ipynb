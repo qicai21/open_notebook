{
 "cells": [
  {
   "cell_type": "markdown",
   "id": "homeless-vegetation",
   "metadata": {},
   "source": [
    "- title: jupyter notebook的安装和配置\n",
    "- author: Burgan\n",
    "- date: 2021-02-14\n",
    "- category: Tips\n",
    "- tags: jupyter, python\n",
    "- status: published\n",
    "- summary: 添加jupyter notebook配置文件,省去token"
   ]
  },
  {
   "cell_type": "markdown",
   "id": "experimental-excellence",
   "metadata": {},
   "source": [
    "**为什么使用jupyter?**\n",
    "\n",
    "* 像草纸一样的操作逻辑\n",
    "* the best REPL(Read Eval Print Loop)\n",
    "* 多种Kenel: python(原生), Javascript, bash, Haskell, Ruby, Go, Scala, PHP\n",
    "* 数据分析必用\n",
    "* 短视频+blog+code\n",
    "\n",
    "**为什么要单独配置?**\n",
    "\n",
    "安装完毕后(略)，执行jupyter notebook，即可快速启动jupyter，\n",
    "一般直接会弹出个浏览器页面，地址类似：\n",
    "\n",
    "`Jupyter Notebook 6.2.0 is running at: http://localhost:8888/? \\\n",
    "token=1bba445e9540f7d40e99e9e3b59dfe78212adfba0d6ae329`\n",
    "\n",
    "虽然它随后会自动打开默认浏览器,但chrome在ubuntu下不支持OBS的窗口录屏,\n",
    "不想把支持录屏的firefox设为默认浏览器,造成每次启动的时候都要复制\n",
    "长长的一串token,十分不方便.\n",
    "\n",
    "**就像你想到的那样，肯定有配置文件.**\n"
   ]
  },
  {
   "cell_type": "markdown",
   "id": "expired-ukraine",
   "metadata": {},
   "source": [
    "*当然还有通过命令来更改设置的方式,本质与此相同,这里不多介绍:*\n",
    "\n",
    "```bash\n",
    "$jupyter notebook --ContentsManager.allow_hidden=True\n",
    "```"
   ]
  },
  {
   "cell_type": "markdown",
   "id": "threatened-signature",
   "metadata": {},
   "source": [
    "## Step1. 生成config\n",
    "\n",
    "在用户目录下创建一个配置.\n",
    "\n",
    "```bash\n",
    "$ jupyter notebook --generate-config\n",
    "```\n",
    "\n",
    "输出如下:\n",
    "\n",
    "```bash\n",
    "Writing default config to: ~/.jupyter/jupyter_notebook_config.py\n",
    "```\n",
    "\n",
    "查看一下配置文件中关于password的和browser的内容:\n",
    "\n",
    "```bash\n",
    "$ egrep 'password\\s=|browser\\s=' ~/.jupyter/jupyter_notebook_config.py\n",
    "```\n",
    "\n",
    "输出如下:\n",
    "\n",
    "```bash\n",
    "# c.NotebookApp.browser = ' '\n",
    "# c.NotebookApp.open_browser = True\n",
    "# c.NotebookApp.password = ' '\n",
    "```"
   ]
  },
  {
   "cell_type": "markdown",
   "id": "tropical-hostel",
   "metadata": {},
   "source": [
    "## Step2. 设定登录密码,代替token启动\n",
    "\n",
    "### Plan-A. 变更token为密码\n",
    "\n",
    "需要注意的是，config的c.NotebookApp.password配置的并非明文密码：\n",
    "\n",
    "在命令行下输入python，进入REPL环境(当然你也可以在notebook中完成)"
   ]
  },
  {
   "cell_type": "code",
   "execution_count": 1,
   "id": "contained-bailey",
   "metadata": {},
   "outputs": [
    {
     "name": "stdout",
     "output_type": "stream",
     "text": [
      "Enter password: ········\n",
      "Verify password: ········\n"
     ]
    },
    {
     "data": {
      "text/plain": [
       "'argon2:$argon2id$v=19$m=10240,t=10,p=8$/PRU5sswcl6ctGoRRRfWiA$PD2MLc2RGjJWWzbAVJzFOw'"
      ]
     },
     "execution_count": 1,
     "metadata": {},
     "output_type": "execute_result"
    }
   ],
   "source": [
    "from notebook.auth import passwd\n",
    "\n",
    "passwd()"
   ]
  },
  {
   "cell_type": "markdown",
   "id": "chinese-chinese",
   "metadata": {},
   "source": [
    "argon2没见过?别紧张,argon2是一种比较新的加密算法,将整个字符串\n",
    "赋值给config.py中的`c.NotebookApp.password = ' '`即可."
   ]
  },
  {
   "cell_type": "markdown",
   "id": "artistic-simon",
   "metadata": {},
   "source": [
    "### Plan-B. 指定默认浏览器\n",
    "\n",
    "通过更改`config`中的以下两个选项来决定notebook启动时浏览器的行为:\n",
    "\n",
    "1. `c.NotebookApp.browser`: 关联的浏览器是什么.\n",
    "\n",
    "2. `c.NotebookApp.open_browser`: 是否自动打开关联浏览器."
   ]
  },
  {
   "cell_type": "code",
   "execution_count": null,
   "id": "single-briefing",
   "metadata": {},
   "outputs": [],
   "source": [
    "# 指定firfox\n",
    "import webbrowser\n",
    "\n",
    "webbrowser.register('firefox', None, webbrowser.GenericBrowser('firefox'))\n",
    "c.NotebookApp.browser = 'firefox'\n",
    "\n",
    "# 自动新建标签页打开\n",
    "c.NotebookApp.open_browser = True\n"
   ]
  },
  {
   "cell_type": "markdown",
   "id": "unusual-engine",
   "metadata": {},
   "source": [
    "### 附加的知识\n",
    "\n",
    "#### 1. 如何在notebook的bash kernel中使用python代码\n",
    "\n",
    "通过python3 -c就可以"
   ]
  },
  {
   "cell_type": "code",
   "execution_count": 9,
   "id": "stuffed-breed",
   "metadata": {},
   "outputs": [
    {
     "name": "stdout",
     "output_type": "stream",
     "text": [
      "2021--02--14\n"
     ]
    }
   ],
   "source": [
    "python3 -c \\\n",
    "\"\n",
    "from datetime import datetime\n",
    "\n",
    "foo = datetime(2021, 2, 14)\n",
    "\n",
    "print(foo.strftime('%Y--%m--%d'))\n",
    "\""
   ]
  },
  {
   "cell_type": "markdown",
   "id": "overall-tuition",
   "metadata": {},
   "source": [
    "#### 2. 加密方法之md5, hash, and argon2\n",
    "\n",
    "上边这些都是加密算法,普遍认为argon2安全性更高.\n",
    "在notebook中可以测试:\n"
   ]
  },
  {
   "cell_type": "code",
   "execution_count": 2,
   "id": "moral-interface",
   "metadata": {},
   "outputs": [
    {
     "name": "stdout",
     "output_type": "stream",
     "text": [
      "argon2:$argon2id$v=19$m=10240,t=10,p=8$+WYimSVVYQg3hBJmJ/Y/kQ$VHgbQFjJUDVWrDtpP3RvBA\n",
      "sha1:0aca2c0552d7:26e47988974c1020946a5174372ad47a87ffaae3\n",
      "True\n",
      "True\n"
     ]
    }
   ],
   "source": [
    "from notebook.auth import passwd\n",
    "from notebook.auth.security import passwd_check\n",
    "\n",
    "password = 'myPass123'\n",
    "\n",
    "hashed_argon2 = passwd(password)\n",
    "hashed_sha1 = passwd(password, 'sha1')\n",
    "\n",
    "print(hashed_argon2)\n",
    "\n",
    "print(hashed_sha1)\n",
    "\n",
    "result = passwd_check(hashed_argon2, password)\n",
    "print(result)\n",
    "result = passwd_check(hashed_sha1, password)\n",
    "print(result)"
   ]
  },
  {
   "cell_type": "markdown",
   "id": "anticipated-bradley",
   "metadata": {},
   "source": [
    "> 更多的知识参考:\n",
    ">\n",
    "> * [忘记MD5 Sha1吧 从现在开始使用 Bcrypt 和 Argon2i](https://blog.csdn.net/qq_36431213/article/details/80211061)\n",
    ">   \n",
    "> * [DOCS: notebook.auth.security](https://github.com/jupyter/notebook/blob/master/notebook/auth/security.py#L24)"
   ]
  },
  {
   "cell_type": "markdown",
   "id": "streaming-toner",
   "metadata": {},
   "source": [
    "#### 3. python中使用webbrowser打开浏览器到指定网页\n",
    "\n",
    "一个演示,运行一下就明白了.\n"
   ]
  },
  {
   "cell_type": "code",
   "execution_count": 4,
   "id": "legitimate-mortgage",
   "metadata": {},
   "outputs": [
    {
     "data": {
      "text/plain": [
       "True"
      ]
     },
     "execution_count": 4,
     "metadata": {},
     "output_type": "execute_result"
    }
   ],
   "source": [
    "import webbrowser\n",
    "webbrowser.register('firefox', None, webbrowser.GenericBrowser('firefox'))\n",
    "webbrowser.get('firefox').open('https://www.google.com')"
   ]
  },
  {
   "cell_type": "markdown",
   "id": "premium-track",
   "metadata": {},
   "source": [
    "----------------------------------------------\n",
    "\n",
    "## Thanks and End!\n",
    "\n",
    "----------------------------------------------\n",
    "----------------------------------------------\n",
    "----------------------------------------------\n",
    "----------------------------------------------\n",
    "----------------------------------------------\n",
    "----------------------------------------------\n",
    "----------------------------------------------\n",
    "----------------------------------------------\n",
    "----------------------------------------------\n",
    "----------------------------------------------\n",
    "----------------------------------------------\n",
    "----------------------------------------------\n",
    "----------------------------------------------\n",
    "----------------------------------------------\n",
    "----------------------------------------------\n",
    "----------------------------------------------\n",
    "----------------------------------------------\n",
    "----------------------------------------------\n"
   ]
  }
 ],
 "metadata": {
  "kernelspec": {
   "display_name": "Python 3",
   "language": "python",
   "name": "python3"
  },
  "language_info": {
   "codemirror_mode": {
    "name": "ipython",
    "version": 3
   },
   "file_extension": ".py",
   "mimetype": "text/x-python",
   "name": "python",
   "nbconvert_exporter": "python",
   "pygments_lexer": "ipython3",
   "version": "3.8.5"
  }
 },
 "nbformat": 4,
 "nbformat_minor": 5
}
