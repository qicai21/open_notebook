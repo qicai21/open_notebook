{
 "cells": [
  {
   "cell_type": "markdown",
   "id": "checked-singing",
   "metadata": {},
   "source": [
    "- title: 使用Pelican搭建github-blogs\n",
    "- author: Burgan\n",
    "- date: 2021-02-11\n",
    "- category: Projects\n",
    "- tags: pelican, web, python\n",
    "- status: published\n",
    "- summary: 使用pelican搭建静态的github博客,简化将markdown和jupyter notebook文件的渲染为博客页面,基于ubuntu系统.抖音有视频."
   ]
  },
  {
   "cell_type": "markdown",
   "id": "italian-buddy",
   "metadata": {},
   "source": [
    "略去如何开通github账户,创建一个blog仓库的过程,如许参考:[使用Pelican和Github Pages搭建个人博客详细教程](https://blog.csdn.net/Heriam/article/details/50633473)\n",
    "\n",
    "大致步骤为:\n",
    "\n",
    "0. pip安装pelican,markdown(略)\n",
    "1. 初始化pelican project\n",
    "2. 关联到github\n",
    "3. 简单调整,测试项目\n",
    "4. 添加.md, .ipynb文件\n",
    "5. 选择合适的theme和必要的plugin\n",
    "6. 调整pelican config, 查看成型blog"
   ]
  },
  {
   "cell_type": "markdown",
   "id": "british-sheet",
   "metadata": {},
   "source": [
    "## 1. 初始化pelican project\n",
    "\n",
    "创建blog文件夹, 在文件夹下初始化pelican项目,顺便准备好你的素材文件夹.\n"
   ]
  },
  {
   "cell_type": "code",
   "execution_count": null,
   "id": "extended-friendship",
   "metadata": {},
   "outputs": [],
   "source": [
    "cd $your_blog_folder\n",
    "pelican-quickstart"
   ]
  },
  {
   "cell_type": "code",
   "execution_count": null,
   "id": "divine-compatibility",
   "metadata": {},
   "outputs": [],
   "source": [
    "# $ pelican-quickstart\n",
    "\n",
    "Welcome to pelican-quickstart v3.4.0.\n",
    "\n",
    "This script will help you create a new Pelican-based website.\n",
    "\n",
    "Please answer the following questions so this script can generate the files\n",
    "needed by Pelican.\n",
    "\n",
    "$ Where do you want to create your new web site? [.] ------------------------- 回车就行\n",
    "$ What will be the title of this web site? ----------------------------------- 随便来个名字,之后随时能改\n",
    "$ Who will be the author of this web site? ----------------------------------- 随便来个名字,之后随时能改\n",
    "$ What will be the default language of this web site? ------------------------ zh_CN\n",
    "$ Do you want to specify a URL prefix? e.g., http://example.com   (Y/n) ------ 回车就行\n",
    "$ What is your URL prefix? (see above example; no trailing slash) ------------ https://user@user.github.io\n",
    "$ Do you want to enable article pagination? (Y/n) ---------------------------- 说的是页码翻页,默认是,回车\n",
    "$ How many articles per page do you want? [10] ------------------------------- 每页显示多少文章,默认10个够用\n",
    "$ Do you want to generate a Fabfile/Makefile to automate generation and publishing? (Y/n) --- 自动生成,选是\n",
    "$ Do you want an auto-reload & simpleHTTP script to assist with theme and site development? (Y/n) -自动上传,选是\n",
    "$ Do you want to upload your website using FTP? (y/N) ------------------------ n\n",
    "$ Do you want to upload your website using SSH? (y/N) ------------------------ n\n",
    "$ Do you want to upload your website using Dropbox? (y/N) -------------------- n\n",
    "$ Do you want to upload your website using S3? (y/N) ------------------------- n\n",
    "$ Do you want to upload your website using Rackspace Cloud Files? (y/N) ------ n\n",
    "$ Do you want to upload your website using GitHub Pages? (y/N) --------------- y\n",
    "$ Is this your personal page (username.github.io)? (y/N) --------------------- n\n",
    "Done. Your new project is available at home/tyler/folder_to_use"
   ]
  },
  {
   "cell_type": "code",
   "execution_count": 11,
   "id": "final-accent",
   "metadata": {
    "scrolled": false
   },
   "outputs": [
    {
     "name": "stdout",
     "output_type": "stream",
     "text": [
      "\u001b[01;34m.\u001b[00m\n",
      "├── 12\n",
      "├── \u001b[01;34mcontent\u001b[00m\n",
      "├── Makefile\n",
      "├── \u001b[01;34moutput\u001b[00m\n",
      "├── pelicanconf_bak.py\n",
      "├── pelicanconf.py\n",
      "├── \u001b[01;34mpelican-plugins\u001b[00m\n",
      "├── \u001b[01;34mpelican-themes\u001b[00m\n",
      "├── publishconf.py\n",
      "├── \u001b[01;34m__pycache__\u001b[00m\n",
      "└── tasks.py\n",
      "\n",
      "5 directories, 6 files\n",
      "\u001b[01;34mcontent\u001b[00m\n",
      "├── \u001b[01;34massets\u001b[00m\n",
      "├── \u001b[01;34mimages\u001b[00m\n",
      "├── \u001b[01;34mothers\u001b[00m\n",
      "├── \u001b[01;34mpages\u001b[00m\n",
      "├── \u001b[01;34mpython\u001b[00m\n",
      "└── \u001b[01;34mubuntu\u001b[00m\n",
      "\n",
      "6 directories, 0 files\n"
     ]
    }
   ],
   "source": [
    "cd content\n",
    "mkdir pages assets images $category1 $category2 $etc\n",
    "tree -L 1\n",
    "tree content -L 1"
   ]
  },
  {
   "cell_type": "markdown",
   "id": "alive-prospect",
   "metadata": {},
   "source": [
    "## 2. 关联到github\n",
    "\n",
    "进入output文件夹，把自己的username.github.io版本库clone下来，注意这里以及后文中的username要替换成自己的Github用户名.\n",
    "\n",
    "不熟悉git和github的,可以自行搜索一下,这里建议将公钥上传到github上,方便之后的push.\n"
   ]
  },
  {
   "cell_type": "code",
   "execution_count": null,
   "id": "russian-reality",
   "metadata": {},
   "outputs": [],
   "source": [
    "cd ./output\n",
    "git init\n",
    "git checkout -b main\n",
    "git remote add origin git@github.com:$username/$username.github.io.git\n",
    "git pull origin main"
   ]
  },
  {
   "cell_type": "markdown",
   "id": "moderate-tattoo",
   "metadata": {},
   "source": [
    "## 3. 简单调整,测试项目\n",
    "\n",
    "简单调整以下自动生成的配置文件,git推送功能,能打开网页就算成功.\n",
    "\n",
    "**pelican有如下命令**, 但可能最长用的:\n",
    "\n",
    "- [x] make html\n",
    "- [ ] make help\n",
    "- [ ] make clean\n",
    "- [ ] make regenerate\n",
    "- [x] make serve \n",
    "- [ ] make serve-global\n",
    "- [ ] make devserver\n",
    "- [x] make publish\n",
    "- [x] make github\n",
    "\n",
    "### 3.1 调整两个文件\n",
    "\n",
    "`Makefile`, 原配置采用ghp-import,封装了git命令,但不是很好用.修改:\n",
    "\n",
    "```bash\n",
    "github: publish\n",
    "\tcd $(OUTPUTDIR) ; git add . ; git commit -am \"generate pelican site\" ; git push origin $(GITHUB_PAGES_BRANCH)\n",
    "```\n",
    "\n",
    "`publishconf.py`, 因为DELETE_OUTPUT_DIRECTORY默认为True,修改:\n",
    "\n",
    "```python\n",
    "DELETE_OUTPUT_DIRECTORY = False\n",
    "```\n"
   ]
  },
  {
   "cell_type": "markdown",
   "id": "portable-deputy",
   "metadata": {},
   "source": [
    "### 3.2 添加一些markdowns, 并添加pelican titles\n",
    "\n",
    "将该notebook保存到`content/pages`下,完后，执行以下命令，即可在本机http://127.0.0.1:8000看到效果。\n",
    "\n",
    "pelican通过一些列title来自动渲染md文件:\n",
    "\n",
    "* Title: Pelican+Github --------------- 决定在首页显示的title, 注意一定要放在第行; \n",
    "* Slug: build-blog-system-by-pelican -- 渲染成html的名称;\n",
    "* Status: published ------------------- published or draft or hidden.\n",
    "* Date: 2021-01-07 22:20\n",
    "* Tags: python, pelican\n",
    "* Authors: your name \n",
    "* Summary: some chars ----------------- 简要概述,会显示在首页.\n",
    "\n",
    "更多参考: [Doc of Pelican](https://docs.getpelican.com)\n",
    "\n",
    "\n",
    "**运行命令,看看结果如何,渲染markdowns为html**"
   ]
  },
  {
   "cell_type": "code",
   "execution_count": null,
   "id": "stretch-physics",
   "metadata": {
    "scrolled": true
   },
   "outputs": [],
   "source": [
    "make github"
   ]
  },
  {
   "cell_type": "markdown",
   "id": "specific-effects",
   "metadata": {},
   "source": [
    "## 4. 添加.md, .ipynb文件\n",
    "\n",
    "markdown, 和jupyter笔记文件应该分类放在content不同的子目录下,注意不要简单塞到pages下,pages是存放404等功能页面的.pelican通常是用content的子目录作为文章页面的category来区分blog的板块.\n",
    "\n",
    "可以尽可能多的准备测试markdown和笔记文件,至少大于首页数量,这样等下测试时能发现更全面的问题."
   ]
  },
  {
   "cell_type": "markdown",
   "id": "middle-jonathan",
   "metadata": {},
   "source": [
    "## 5. 选择合适的theme和plugins\n",
    "\n",
    "### 5.1 添加theme\n",
    "\n",
    "pelican themes集合有很多很多, 此处暂列出比较丰富的一个:[getpelican/pelican-themes](https://github.com/getpelican/pelican-themes).可以挑选任意中意的样式,里边都有非常详细的配置说明.\n",
    "\n",
    "以[pelican-bootstrap3](https://github.com/getpelican/pelican-themes/tree/master/pelican-bootstrap3) 为例,如何安装theme:\n",
    "\n",
    "- [x] Step-1: install theme by git clone repo.\n",
    "- [x] Step-2: Point the THEME variable in your pelicanconf.py to /path/to/pelican-bootstrap3\n"
   ]
  },
  {
   "cell_type": "markdown",
   "id": "complimentary-monday",
   "metadata": {},
   "source": [
    "**在`$your_blogs_folder`下通过git安装,有点大,请耐心.**"
   ]
  },
  {
   "cell_type": "code",
   "execution_count": 19,
   "id": "operational-newcastle",
   "metadata": {
    "scrolled": true
   },
   "outputs": [
    {
     "name": "stdout",
     "output_type": "stream",
     "text": [
      "正克隆到 'pelican-themes'...\n",
      "remote: Enumerating objects: 6, done.\u001b[K\n",
      "remote: Counting objects: 100% (6/6), done.\u001b[K\n",
      "remote: Compressing objects: 100% (5/5), done.\u001b[K\n",
      "remote: Total 6504 (delta 1), reused 3 (delta 1), pack-reused 6498\u001b[K\n",
      "接收对象中: 100% (6504/6504), 31.52 MiB | 982.00 KiB/s, 完成.\n",
      "处理 delta 中: 100% (3272/3272), 完成.\n"
     ]
    }
   ],
   "source": [
    "git clone https://github.com/getpelican/pelican-themes.git/"
   ]
  },
  {
   "cell_type": "code",
   "execution_count": 25,
   "id": "applicable-crack",
   "metadata": {},
   "outputs": [],
   "source": [
    "cd pelican-themes\n",
    "pelican-themes -i bootstrap2"
   ]
  },
  {
   "cell_type": "markdown",
   "id": "detected-pottery",
   "metadata": {},
   "source": [
    "### 5.2 添加必要插件\n",
    "\n",
    "方法同theme的安装,然后根据需要在pelicanconf.py中选择和配置插件.具体的选择和配置等下再说."
   ]
  },
  {
   "cell_type": "code",
   "execution_count": null,
   "id": "emerging-titanium",
   "metadata": {
    "jupyter": {
     "outputs_hidden": true
    }
   },
   "outputs": [],
   "source": [
    "git clone --recursive https://github.com/getpelican/pelican-plugins"
   ]
  },
  {
   "cell_type": "markdown",
   "id": "proud-yukon",
   "metadata": {},
   "source": [
    "### 5.3 添加对.ipynb的支持\n",
    "\n",
    "渲染jupyter笔记文件的方式不止一种,这里暂时以[pelican-jupyter](https://github.com/danielfrg/pelican-jupyter.git)为例,来使pelican对jupyter notebook进行支持.\n",
    "\n",
    "> theme pelican-bootstrap3 + plugin liquid_tags.notebook 的组合同样能实现笔记渲染.\n",
    "\n",
    "**Installation**"
   ]
  },
  {
   "cell_type": "code",
   "execution_count": null,
   "id": "dutch-islam",
   "metadata": {},
   "outputs": [],
   "source": [
    "pip install pelican-jupyter"
   ]
  },
  {
   "cell_type": "markdown",
   "id": "official-vitamin",
   "metadata": {},
   "source": [
    "## 6. 调整pelicanconf.py\n",
    "\n",
    "通过反复修改pelicanconf.py -- 生成页面 -- 在本地服务器上查看渲染效果,这样的过程来最终达成你预期的效果.\n",
    "\n",
    "其中部分WARNING也不要害怕,甚至有的只是兼容性bug,不会影响你的网站效果.\n",
    "\n",
    "具体的每一条配置效果,将会在视频中展示,此处仅给出我最终(暂时)的pelicanconf.py文件,供你找找感觉.\n",
    "\n",
    "\"\"\"python\n",
    "\n",
    "    from pelican_jupyter import markup as nb_markup\n",
    "\n",
    "    AUTHOR = 'Burgan'\n",
    "\n",
    "    SITENAME = \"Burgan的干货站\"\n",
    "\n",
    "    PATH = 'content'\n",
    "\n",
    "    TIMEZONE = 'Asia/Shanghai'\n",
    "\n",
    "    DEFAULT_LANG = 'zh_CN'\n",
    "\n",
    "    FEED_ALL_ATOM = None\n",
    "\n",
    "    CATEGORY_FEED_ATOM = None\n",
    "\n",
    "    TRANSLATION_FEED_ATOM = None\n",
    "\n",
    "    AUTHOR_FEED_ATOM = None\n",
    "\n",
    "    AUTHOR_FEED_RSS = None\n",
    "\n",
    "    DEFAULT_PAGINATION = 10\n",
    "\n",
    "    BOOTSTRAP_NAVBAR_INVERSE = True\n",
    "\n",
    "    ABOUT_ME = 'PYTHON, UBUNTU, AND More.'\n",
    "\n",
    "    DISPLAY_ARTICLE_INFO_ON_INDEX = True\n",
    "\n",
    "    FAVICON = '/favicon.ico'\n",
    "\n",
    "    PYGMENTS_STYLE = 'friendly'\n",
    "\n",
    "    #####  Theme select \n",
    "    THEME = './pelican-themes/pelican-bootstrap3'\n",
    "\n",
    "    ##### Sidebar options\n",
    "    SOCIAL = (('envelope-o', 'mailto:your_mail_address'),\n",
    "              ('linkedin', 'https://www.linkedin.com/in/东北-郭-b05753166/'),\n",
    "              ('github', 'https://github.com/qicai21')\n",
    "              )\n",
    "\n",
    "    DISPLAY_TAGS_ON_SIDEBAR = True\n",
    "\n",
    "    RELATIVE_URLS = True\n",
    "\n",
    "    SIDEBAR_IMAGES = [\"/assets/cn_tiktok_qr.png\", ]\n",
    "\n",
    "    #### Plugins\n",
    "    PLUGIN_PATHS = ['./pelican-plugins']\n",
    "\n",
    "    PLUGINS = ['i18n_subsites', 'tag_cloud',\n",
    "               'optimize_images', nb_markup]\n",
    "\n",
    "    JINJA_ENVIRONMENT = {'extensions': ['jinja2.ext.i18n']}\n",
    "\n",
    "    I18N_TEMPLATES_LANG = 'en'\n",
    "\n",
    "    #### for plugin jupyter notebook file rendering\n",
    "    MARKUP = ('md', 'ipynb')\n",
    "\n",
    "    IPYNB_MARKUP_USE_FIRST_CELL = True\n",
    "\n",
    "    IGNORE_FILES = [\".ipynb_checkpoints\"]\n",
    "\n",
    "    #### plugin related_posts\n",
    "    RELATED_POSTS_MAX = 5\n",
    "\n",
    "    #### Content License\n",
    "    CC_ATTR_MARKUP = True\n",
    "\n",
    "    CC_LICENSE_DERIVATIVES = 'yes'\n",
    "\n",
    "    CC_LICENSE_COMMERCIAL = 'no'\n",
    "\n",
    "\n",
    "    #### others\n",
    "    STATIC_PATHS = ['images', 'assets']\n",
    "    EXTRA_PATH_METADATA = {\n",
    "        'assets/favicon.ico': {'path': 'favicon.ico'},\n",
    "        'extra/custom.css': {'path': 'static/custom.css'},\n",
    "        'assets/devops_cover.png': {'path': 'devops_cover.png'},\n",
    "        'assets/cn_tiktok_qr.png': {'path': 'assets/cn_tiktok_qr.png'},\n",
    "        'assets/wechat_qr.jpg': {'path': 'assets/wechat_qr.jpg'},\n",
    "    }\n",
    "\n",
    "\n",
    "\"\"\""
   ]
  }
 ],
 "metadata": {
  "kernelspec": {
   "display_name": "Bash",
   "language": "bash",
   "name": "bash"
  },
  "language_info": {
   "codemirror_mode": "shell",
   "file_extension": ".sh",
   "mimetype": "text/x-sh",
   "name": "bash"
  }
 },
 "nbformat": 4,
 "nbformat_minor": 5
}
